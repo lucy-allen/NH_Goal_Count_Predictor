{
 "cells": [
  {
   "cell_type": "markdown",
   "metadata": {},
   "source": [
    "# Predicting NHL Wins"
   ]
  },
  {
   "cell_type": "markdown",
   "metadata": {},
   "source": [
    "### IMPORTS"
   ]
  },
  {
   "cell_type": "code",
   "execution_count": 1,
   "metadata": {},
   "outputs": [],
   "source": [
    "import pandas as pd\n",
    "import numpy as np\n",
    "from matplotlib import pyplot as plt\n",
    "import seaborn as sns"
   ]
  },
  {
   "cell_type": "code",
   "execution_count": 184,
   "metadata": {},
   "outputs": [],
   "source": [
    "import itertools\n",
    "from mlxtend.plotting import plot_decision_regions\n",
    "from mlxtend.classifier import StackingClassifier # <-- note: this is not from sklearn!\n",
    "\n",
    "\n",
    "from sklearn.tree import DecisionTreeClassifier, DecisionTreeRegressor\n",
    "from sklearn.ensemble import (RandomForestClassifier, ExtraTreesClassifier, VotingClassifier, \n",
    "                              AdaBoostClassifier, BaggingRegressor, GradientBoostingClassifier)\n",
    "\n",
    "from sklearn.svm import SVC\n",
    "from sklearn.neighbors import KNeighborsClassifier\n",
    "from sklearn.naive_bayes import GaussianNB, MultinomialNB, BernoulliNB\n",
    "from sklearn.linear_model import LogisticRegression\n",
    "from sklearn.metrics import accuracy_score, make_scorer, roc_auc_score, confusion_matrix\n",
    "from sklearn.model_selection import train_test_split, GridSearchCV, cross_validate\n",
    "from sklearn.preprocessing import StandardScaler\n",
    "from sklearn.model_selection import KFold\n",
    "from sklearn.model_selection import cross_val_score\n",
    "from sklearn import svm"
   ]
  },
  {
   "cell_type": "markdown",
   "metadata": {},
   "source": [
    "### Importing Data"
   ]
  },
  {
   "cell_type": "code",
   "execution_count": 3,
   "metadata": {},
   "outputs": [],
   "source": [
    "nhl_data = pd.read_csv('nhl_win_loss.csv')"
   ]
  },
  {
   "cell_type": "code",
   "execution_count": 5,
   "metadata": {},
   "outputs": [],
   "source": [
    "nhl_data.drop('Unnamed: 0', axis=1, inplace=True)"
   ]
  },
  {
   "cell_type": "code",
   "execution_count": 6,
   "metadata": {},
   "outputs": [
    {
     "data": {
      "text/html": [
       "<div>\n",
       "<style scoped>\n",
       "    .dataframe tbody tr th:only-of-type {\n",
       "        vertical-align: middle;\n",
       "    }\n",
       "\n",
       "    .dataframe tbody tr th {\n",
       "        vertical-align: top;\n",
       "    }\n",
       "\n",
       "    .dataframe thead th {\n",
       "        text-align: right;\n",
       "    }\n",
       "</style>\n",
       "<table border=\"1\" class=\"dataframe\">\n",
       "  <thead>\n",
       "    <tr style=\"text-align: right;\">\n",
       "      <th></th>\n",
       "      <th>homedivision</th>\n",
       "      <th>hometeam</th>\n",
       "      <th>date</th>\n",
       "      <th>awayteam</th>\n",
       "      <th>homeresult</th>\n",
       "      <th>datetime</th>\n",
       "      <th>homefivegoalsfor</th>\n",
       "      <th>homefivegoalsagainst</th>\n",
       "      <th>hometengoalsfor</th>\n",
       "      <th>hometengoalsagainst</th>\n",
       "      <th>...</th>\n",
       "      <th>tengamegoalfordiff</th>\n",
       "      <th>fivegamegoalfordiff</th>\n",
       "      <th>tengamegoalagainstdiff</th>\n",
       "      <th>fivegamegoalagainstdiff</th>\n",
       "      <th>homefivegoaldiff</th>\n",
       "      <th>hometengoaldiff</th>\n",
       "      <th>awayfivegoaldiff</th>\n",
       "      <th>awaytengoaldiff</th>\n",
       "      <th>samedivision</th>\n",
       "      <th>win</th>\n",
       "    </tr>\n",
       "  </thead>\n",
       "  <tbody>\n",
       "    <tr>\n",
       "      <th>0</th>\n",
       "      <td>Atlantic</td>\n",
       "      <td>Tampa Bay</td>\n",
       "      <td>12/27/18</td>\n",
       "      <td>Philadelphia</td>\n",
       "      <td>Win</td>\n",
       "      <td>2018-12-27</td>\n",
       "      <td>24.0</td>\n",
       "      <td>15.0</td>\n",
       "      <td>51.0</td>\n",
       "      <td>27.0</td>\n",
       "      <td>...</td>\n",
       "      <td>23.0</td>\n",
       "      <td>12.0</td>\n",
       "      <td>-10.0</td>\n",
       "      <td>1.0</td>\n",
       "      <td>9.0</td>\n",
       "      <td>24.0</td>\n",
       "      <td>-2.0</td>\n",
       "      <td>-9.0</td>\n",
       "      <td>0</td>\n",
       "      <td>1</td>\n",
       "    </tr>\n",
       "    <tr>\n",
       "      <th>1</th>\n",
       "      <td>Atlantic</td>\n",
       "      <td>Tampa Bay</td>\n",
       "      <td>12/29/18</td>\n",
       "      <td>Montreal</td>\n",
       "      <td>Win</td>\n",
       "      <td>2018-12-29</td>\n",
       "      <td>26.0</td>\n",
       "      <td>19.0</td>\n",
       "      <td>52.0</td>\n",
       "      <td>31.0</td>\n",
       "      <td>...</td>\n",
       "      <td>20.0</td>\n",
       "      <td>14.0</td>\n",
       "      <td>1.0</td>\n",
       "      <td>6.0</td>\n",
       "      <td>7.0</td>\n",
       "      <td>21.0</td>\n",
       "      <td>-1.0</td>\n",
       "      <td>2.0</td>\n",
       "      <td>1</td>\n",
       "      <td>1</td>\n",
       "    </tr>\n",
       "    <tr>\n",
       "      <th>2</th>\n",
       "      <td>Atlantic</td>\n",
       "      <td>Tampa Bay</td>\n",
       "      <td>1/8/19</td>\n",
       "      <td>Columbus</td>\n",
       "      <td>Win</td>\n",
       "      <td>2019-01-08</td>\n",
       "      <td>22.0</td>\n",
       "      <td>18.0</td>\n",
       "      <td>46.0</td>\n",
       "      <td>33.0</td>\n",
       "      <td>...</td>\n",
       "      <td>17.0</td>\n",
       "      <td>4.0</td>\n",
       "      <td>10.0</td>\n",
       "      <td>1.0</td>\n",
       "      <td>4.0</td>\n",
       "      <td>13.0</td>\n",
       "      <td>1.0</td>\n",
       "      <td>6.0</td>\n",
       "      <td>0</td>\n",
       "      <td>1</td>\n",
       "    </tr>\n",
       "    <tr>\n",
       "      <th>3</th>\n",
       "      <td>Atlantic</td>\n",
       "      <td>Tampa Bay</td>\n",
       "      <td>1/10/19</td>\n",
       "      <td>Carolina</td>\n",
       "      <td>Win</td>\n",
       "      <td>2019-01-10</td>\n",
       "      <td>20.0</td>\n",
       "      <td>13.0</td>\n",
       "      <td>46.0</td>\n",
       "      <td>32.0</td>\n",
       "      <td>...</td>\n",
       "      <td>18.0</td>\n",
       "      <td>-1.0</td>\n",
       "      <td>4.0</td>\n",
       "      <td>0.0</td>\n",
       "      <td>7.0</td>\n",
       "      <td>14.0</td>\n",
       "      <td>8.0</td>\n",
       "      <td>0.0</td>\n",
       "      <td>0</td>\n",
       "      <td>1</td>\n",
       "    </tr>\n",
       "    <tr>\n",
       "      <th>4</th>\n",
       "      <td>Atlantic</td>\n",
       "      <td>Tampa Bay</td>\n",
       "      <td>1/17/19</td>\n",
       "      <td>Toronto</td>\n",
       "      <td>Loss</td>\n",
       "      <td>2019-01-17</td>\n",
       "      <td>15.0</td>\n",
       "      <td>9.0</td>\n",
       "      <td>37.0</td>\n",
       "      <td>27.0</td>\n",
       "      <td>...</td>\n",
       "      <td>6.0</td>\n",
       "      <td>1.0</td>\n",
       "      <td>-5.0</td>\n",
       "      <td>-6.0</td>\n",
       "      <td>6.0</td>\n",
       "      <td>10.0</td>\n",
       "      <td>-1.0</td>\n",
       "      <td>-1.0</td>\n",
       "      <td>1</td>\n",
       "      <td>0</td>\n",
       "    </tr>\n",
       "  </tbody>\n",
       "</table>\n",
       "<p>5 rows × 43 columns</p>\n",
       "</div>"
      ],
      "text/plain": [
       "  homedivision   hometeam      date      awayteam homeresult    datetime  \\\n",
       "0     Atlantic  Tampa Bay  12/27/18  Philadelphia        Win  2018-12-27   \n",
       "1     Atlantic  Tampa Bay  12/29/18      Montreal        Win  2018-12-29   \n",
       "2     Atlantic  Tampa Bay    1/8/19      Columbus        Win  2019-01-08   \n",
       "3     Atlantic  Tampa Bay   1/10/19      Carolina        Win  2019-01-10   \n",
       "4     Atlantic  Tampa Bay   1/17/19       Toronto       Loss  2019-01-17   \n",
       "\n",
       "   homefivegoalsfor  homefivegoalsagainst  hometengoalsfor  \\\n",
       "0              24.0                  15.0             51.0   \n",
       "1              26.0                  19.0             52.0   \n",
       "2              22.0                  18.0             46.0   \n",
       "3              20.0                  13.0             46.0   \n",
       "4              15.0                   9.0             37.0   \n",
       "\n",
       "   hometengoalsagainst  ...  tengamegoalfordiff  fivegamegoalfordiff  \\\n",
       "0                 27.0  ...                23.0                 12.0   \n",
       "1                 31.0  ...                20.0                 14.0   \n",
       "2                 33.0  ...                17.0                  4.0   \n",
       "3                 32.0  ...                18.0                 -1.0   \n",
       "4                 27.0  ...                 6.0                  1.0   \n",
       "\n",
       "   tengamegoalagainstdiff  fivegamegoalagainstdiff  homefivegoaldiff  \\\n",
       "0                   -10.0                      1.0               9.0   \n",
       "1                     1.0                      6.0               7.0   \n",
       "2                    10.0                      1.0               4.0   \n",
       "3                     4.0                      0.0               7.0   \n",
       "4                    -5.0                     -6.0               6.0   \n",
       "\n",
       "   hometengoaldiff  awayfivegoaldiff  awaytengoaldiff samedivision win  \n",
       "0             24.0              -2.0             -9.0            0   1  \n",
       "1             21.0              -1.0              2.0            1   1  \n",
       "2             13.0               1.0              6.0            0   1  \n",
       "3             14.0               8.0              0.0            0   1  \n",
       "4             10.0              -1.0             -1.0            1   0  \n",
       "\n",
       "[5 rows x 43 columns]"
      ]
     },
     "execution_count": 6,
     "metadata": {},
     "output_type": "execute_result"
    }
   ],
   "source": [
    "nhl_data.head()"
   ]
  },
  {
   "cell_type": "markdown",
   "metadata": {},
   "source": [
    "### Creating a Numeric DataFrame"
   ]
  },
  {
   "cell_type": "code",
   "execution_count": 7,
   "metadata": {},
   "outputs": [],
   "source": [
    "nhl_num = nhl_data.drop(['homedivision', 'awaydivision', 'hometeam', 'awayteam', 'date', 'homeresult', 'datetime', 'awayresult'], axis=1)"
   ]
  },
  {
   "cell_type": "code",
   "execution_count": 8,
   "metadata": {},
   "outputs": [],
   "source": [
    "nhl_num.drop(['homelastfiveloss', 'homelastfiveties', 'homelasttenloss', 'homelasttenties', \n",
    "             'awaylastfiveloss', 'awaylastfiveties', 'awaylasttenloss', 'awaylasttenties'], axis=1, inplace=True)"
   ]
  },
  {
   "cell_type": "code",
   "execution_count": 9,
   "metadata": {},
   "outputs": [],
   "source": [
    "nhl_num_ten = nhl_num.copy()"
   ]
  },
  {
   "cell_type": "code",
   "execution_count": 10,
   "metadata": {},
   "outputs": [],
   "source": [
    "nhl_num_ten.drop(['homefivegoalsfor', 'homefivegoalsagainst', 'homelastfivewins', 'homefivewinpct', \n",
    "                  'awayfivegoalsfor', 'awayfivegoalsagainst', 'awaylastfivewins', 'awayfivewinpct', \n",
    "                  'fivegamegoalfordiff', 'fivegamegoalagainstdiff', 'homefivegoaldiff', 'awayfivegoaldiff'], axis=1, inplace=True)"
   ]
  },
  {
   "cell_type": "code",
   "execution_count": 11,
   "metadata": {},
   "outputs": [],
   "source": [
    "nhl_num_ten['tengoaldiff'] = nhl_num_ten['hometengoaldiff'] - nhl_num_ten['awaytengoaldiff']"
   ]
  },
  {
   "cell_type": "code",
   "execution_count": 12,
   "metadata": {},
   "outputs": [
    {
     "data": {
      "text/html": [
       "<div>\n",
       "<style scoped>\n",
       "    .dataframe tbody tr th:only-of-type {\n",
       "        vertical-align: middle;\n",
       "    }\n",
       "\n",
       "    .dataframe tbody tr th {\n",
       "        vertical-align: top;\n",
       "    }\n",
       "\n",
       "    .dataframe thead th {\n",
       "        text-align: right;\n",
       "    }\n",
       "</style>\n",
       "<table border=\"1\" class=\"dataframe\">\n",
       "  <thead>\n",
       "    <tr style=\"text-align: right;\">\n",
       "      <th></th>\n",
       "      <th>hometengoalsfor</th>\n",
       "      <th>hometengoalsagainst</th>\n",
       "      <th>homelasttenwins</th>\n",
       "      <th>hometenwinpct</th>\n",
       "      <th>awaytengoalsfor</th>\n",
       "      <th>awaytengoalsagainst</th>\n",
       "      <th>awaylasttenwins</th>\n",
       "      <th>awaytenwinpct</th>\n",
       "      <th>tenwinpctdiff</th>\n",
       "      <th>tengamegoalfordiff</th>\n",
       "      <th>tengamegoalagainstdiff</th>\n",
       "      <th>hometengoaldiff</th>\n",
       "      <th>awaytengoaldiff</th>\n",
       "      <th>samedivision</th>\n",
       "      <th>win</th>\n",
       "      <th>tengoaldiff</th>\n",
       "    </tr>\n",
       "  </thead>\n",
       "  <tbody>\n",
       "    <tr>\n",
       "      <th>0</th>\n",
       "      <td>51.0</td>\n",
       "      <td>27.0</td>\n",
       "      <td>9.0</td>\n",
       "      <td>0.9</td>\n",
       "      <td>28.0</td>\n",
       "      <td>37.0</td>\n",
       "      <td>4.0</td>\n",
       "      <td>0.4</td>\n",
       "      <td>0.5</td>\n",
       "      <td>23.0</td>\n",
       "      <td>-10.0</td>\n",
       "      <td>24.0</td>\n",
       "      <td>-9.0</td>\n",
       "      <td>0</td>\n",
       "      <td>1</td>\n",
       "      <td>33.0</td>\n",
       "    </tr>\n",
       "    <tr>\n",
       "      <th>1</th>\n",
       "      <td>52.0</td>\n",
       "      <td>31.0</td>\n",
       "      <td>9.0</td>\n",
       "      <td>0.9</td>\n",
       "      <td>32.0</td>\n",
       "      <td>30.0</td>\n",
       "      <td>7.0</td>\n",
       "      <td>0.7</td>\n",
       "      <td>0.2</td>\n",
       "      <td>20.0</td>\n",
       "      <td>1.0</td>\n",
       "      <td>21.0</td>\n",
       "      <td>2.0</td>\n",
       "      <td>1</td>\n",
       "      <td>1</td>\n",
       "      <td>19.0</td>\n",
       "    </tr>\n",
       "    <tr>\n",
       "      <th>2</th>\n",
       "      <td>46.0</td>\n",
       "      <td>33.0</td>\n",
       "      <td>8.0</td>\n",
       "      <td>0.8</td>\n",
       "      <td>29.0</td>\n",
       "      <td>23.0</td>\n",
       "      <td>7.0</td>\n",
       "      <td>0.7</td>\n",
       "      <td>0.1</td>\n",
       "      <td>17.0</td>\n",
       "      <td>10.0</td>\n",
       "      <td>13.0</td>\n",
       "      <td>6.0</td>\n",
       "      <td>0</td>\n",
       "      <td>1</td>\n",
       "      <td>7.0</td>\n",
       "    </tr>\n",
       "    <tr>\n",
       "      <th>3</th>\n",
       "      <td>46.0</td>\n",
       "      <td>32.0</td>\n",
       "      <td>8.0</td>\n",
       "      <td>0.8</td>\n",
       "      <td>28.0</td>\n",
       "      <td>28.0</td>\n",
       "      <td>6.0</td>\n",
       "      <td>0.6</td>\n",
       "      <td>0.2</td>\n",
       "      <td>18.0</td>\n",
       "      <td>4.0</td>\n",
       "      <td>14.0</td>\n",
       "      <td>0.0</td>\n",
       "      <td>0</td>\n",
       "      <td>1</td>\n",
       "      <td>14.0</td>\n",
       "    </tr>\n",
       "    <tr>\n",
       "      <th>4</th>\n",
       "      <td>37.0</td>\n",
       "      <td>27.0</td>\n",
       "      <td>8.0</td>\n",
       "      <td>0.8</td>\n",
       "      <td>31.0</td>\n",
       "      <td>32.0</td>\n",
       "      <td>5.0</td>\n",
       "      <td>0.5</td>\n",
       "      <td>0.3</td>\n",
       "      <td>6.0</td>\n",
       "      <td>-5.0</td>\n",
       "      <td>10.0</td>\n",
       "      <td>-1.0</td>\n",
       "      <td>1</td>\n",
       "      <td>0</td>\n",
       "      <td>11.0</td>\n",
       "    </tr>\n",
       "    <tr>\n",
       "      <th>...</th>\n",
       "      <td>...</td>\n",
       "      <td>...</td>\n",
       "      <td>...</td>\n",
       "      <td>...</td>\n",
       "      <td>...</td>\n",
       "      <td>...</td>\n",
       "      <td>...</td>\n",
       "      <td>...</td>\n",
       "      <td>...</td>\n",
       "      <td>...</td>\n",
       "      <td>...</td>\n",
       "      <td>...</td>\n",
       "      <td>...</td>\n",
       "      <td>...</td>\n",
       "      <td>...</td>\n",
       "      <td>...</td>\n",
       "    </tr>\n",
       "    <tr>\n",
       "      <th>771</th>\n",
       "      <td>22.0</td>\n",
       "      <td>36.0</td>\n",
       "      <td>2.0</td>\n",
       "      <td>0.2</td>\n",
       "      <td>33.0</td>\n",
       "      <td>32.0</td>\n",
       "      <td>6.0</td>\n",
       "      <td>0.6</td>\n",
       "      <td>-0.4</td>\n",
       "      <td>-11.0</td>\n",
       "      <td>4.0</td>\n",
       "      <td>-14.0</td>\n",
       "      <td>1.0</td>\n",
       "      <td>1</td>\n",
       "      <td>1</td>\n",
       "      <td>-15.0</td>\n",
       "    </tr>\n",
       "    <tr>\n",
       "      <th>772</th>\n",
       "      <td>25.0</td>\n",
       "      <td>32.0</td>\n",
       "      <td>3.0</td>\n",
       "      <td>0.3</td>\n",
       "      <td>33.0</td>\n",
       "      <td>30.0</td>\n",
       "      <td>6.0</td>\n",
       "      <td>0.6</td>\n",
       "      <td>-0.3</td>\n",
       "      <td>-8.0</td>\n",
       "      <td>2.0</td>\n",
       "      <td>-7.0</td>\n",
       "      <td>3.0</td>\n",
       "      <td>1</td>\n",
       "      <td>1</td>\n",
       "      <td>-10.0</td>\n",
       "    </tr>\n",
       "    <tr>\n",
       "      <th>773</th>\n",
       "      <td>28.0</td>\n",
       "      <td>32.0</td>\n",
       "      <td>4.0</td>\n",
       "      <td>0.4</td>\n",
       "      <td>28.0</td>\n",
       "      <td>22.0</td>\n",
       "      <td>6.0</td>\n",
       "      <td>0.6</td>\n",
       "      <td>-0.2</td>\n",
       "      <td>0.0</td>\n",
       "      <td>10.0</td>\n",
       "      <td>-4.0</td>\n",
       "      <td>6.0</td>\n",
       "      <td>0</td>\n",
       "      <td>1</td>\n",
       "      <td>-10.0</td>\n",
       "    </tr>\n",
       "    <tr>\n",
       "      <th>774</th>\n",
       "      <td>29.0</td>\n",
       "      <td>30.0</td>\n",
       "      <td>5.0</td>\n",
       "      <td>0.5</td>\n",
       "      <td>39.0</td>\n",
       "      <td>20.0</td>\n",
       "      <td>7.0</td>\n",
       "      <td>0.7</td>\n",
       "      <td>-0.2</td>\n",
       "      <td>-10.0</td>\n",
       "      <td>10.0</td>\n",
       "      <td>-1.0</td>\n",
       "      <td>19.0</td>\n",
       "      <td>1</td>\n",
       "      <td>0</td>\n",
       "      <td>-20.0</td>\n",
       "    </tr>\n",
       "    <tr>\n",
       "      <th>775</th>\n",
       "      <td>29.0</td>\n",
       "      <td>34.0</td>\n",
       "      <td>5.0</td>\n",
       "      <td>0.5</td>\n",
       "      <td>33.0</td>\n",
       "      <td>28.0</td>\n",
       "      <td>4.0</td>\n",
       "      <td>0.4</td>\n",
       "      <td>0.1</td>\n",
       "      <td>-4.0</td>\n",
       "      <td>6.0</td>\n",
       "      <td>-5.0</td>\n",
       "      <td>5.0</td>\n",
       "      <td>1</td>\n",
       "      <td>1</td>\n",
       "      <td>-10.0</td>\n",
       "    </tr>\n",
       "  </tbody>\n",
       "</table>\n",
       "<p>776 rows × 16 columns</p>\n",
       "</div>"
      ],
      "text/plain": [
       "     hometengoalsfor  hometengoalsagainst  homelasttenwins  hometenwinpct  \\\n",
       "0               51.0                 27.0              9.0            0.9   \n",
       "1               52.0                 31.0              9.0            0.9   \n",
       "2               46.0                 33.0              8.0            0.8   \n",
       "3               46.0                 32.0              8.0            0.8   \n",
       "4               37.0                 27.0              8.0            0.8   \n",
       "..               ...                  ...              ...            ...   \n",
       "771             22.0                 36.0              2.0            0.2   \n",
       "772             25.0                 32.0              3.0            0.3   \n",
       "773             28.0                 32.0              4.0            0.4   \n",
       "774             29.0                 30.0              5.0            0.5   \n",
       "775             29.0                 34.0              5.0            0.5   \n",
       "\n",
       "     awaytengoalsfor  awaytengoalsagainst  awaylasttenwins  awaytenwinpct  \\\n",
       "0               28.0                 37.0              4.0            0.4   \n",
       "1               32.0                 30.0              7.0            0.7   \n",
       "2               29.0                 23.0              7.0            0.7   \n",
       "3               28.0                 28.0              6.0            0.6   \n",
       "4               31.0                 32.0              5.0            0.5   \n",
       "..               ...                  ...              ...            ...   \n",
       "771             33.0                 32.0              6.0            0.6   \n",
       "772             33.0                 30.0              6.0            0.6   \n",
       "773             28.0                 22.0              6.0            0.6   \n",
       "774             39.0                 20.0              7.0            0.7   \n",
       "775             33.0                 28.0              4.0            0.4   \n",
       "\n",
       "     tenwinpctdiff  tengamegoalfordiff  tengamegoalagainstdiff  \\\n",
       "0              0.5                23.0                   -10.0   \n",
       "1              0.2                20.0                     1.0   \n",
       "2              0.1                17.0                    10.0   \n",
       "3              0.2                18.0                     4.0   \n",
       "4              0.3                 6.0                    -5.0   \n",
       "..             ...                 ...                     ...   \n",
       "771           -0.4               -11.0                     4.0   \n",
       "772           -0.3                -8.0                     2.0   \n",
       "773           -0.2                 0.0                    10.0   \n",
       "774           -0.2               -10.0                    10.0   \n",
       "775            0.1                -4.0                     6.0   \n",
       "\n",
       "     hometengoaldiff  awaytengoaldiff  samedivision  win  tengoaldiff  \n",
       "0               24.0             -9.0             0    1         33.0  \n",
       "1               21.0              2.0             1    1         19.0  \n",
       "2               13.0              6.0             0    1          7.0  \n",
       "3               14.0              0.0             0    1         14.0  \n",
       "4               10.0             -1.0             1    0         11.0  \n",
       "..               ...              ...           ...  ...          ...  \n",
       "771            -14.0              1.0             1    1        -15.0  \n",
       "772             -7.0              3.0             1    1        -10.0  \n",
       "773             -4.0              6.0             0    1        -10.0  \n",
       "774             -1.0             19.0             1    0        -20.0  \n",
       "775             -5.0              5.0             1    1        -10.0  \n",
       "\n",
       "[776 rows x 16 columns]"
      ]
     },
     "execution_count": 12,
     "metadata": {},
     "output_type": "execute_result"
    }
   ],
   "source": [
    "nhl_num_ten"
   ]
  },
  {
   "cell_type": "markdown",
   "metadata": {},
   "source": [
    "### Model Prep"
   ]
  },
  {
   "cell_type": "code",
   "execution_count": 257,
   "metadata": {},
   "outputs": [],
   "source": [
    "X = nhl_num_ten.drop(['win', 'homelasttenwins', 'awaylasttenwins', 'samedivision', 'hometenwinpct', 'awaytenwinpct', \n",
    "                     'hometengoalsfor', 'hometengoalsagainst', 'awaytengoalsfor', 'awaytengoalsagainst'], axis=1)\n",
    "y = nhl_num_ten['win']"
   ]
  },
  {
   "cell_type": "code",
   "execution_count": 258,
   "metadata": {},
   "outputs": [],
   "source": [
    "X_train, X_test, y_train, y_test = train_test_split(X, y, test_size=0.2, random_state=30)"
   ]
  },
  {
   "cell_type": "code",
   "execution_count": 254,
   "metadata": {},
   "outputs": [],
   "source": [
    "X = nhl_num_ten.drop('win', axis=1)"
   ]
  },
  {
   "cell_type": "markdown",
   "metadata": {},
   "source": [
    "### Baseline Model"
   ]
  },
  {
   "cell_type": "markdown",
   "metadata": {},
   "source": [
    "Using Accuracy as Main Scoring Metric"
   ]
  },
  {
   "cell_type": "code",
   "execution_count": 88,
   "metadata": {},
   "outputs": [
    {
     "data": {
      "text/plain": [
       "(620,)"
      ]
     },
     "execution_count": 88,
     "metadata": {},
     "output_type": "execute_result"
    }
   ],
   "source": [
    "y_train.shape"
   ]
  },
  {
   "cell_type": "code",
   "execution_count": 256,
   "metadata": {},
   "outputs": [
    {
     "data": {
      "text/plain": [
       "0.5967741935483871"
      ]
     },
     "execution_count": 256,
     "metadata": {},
     "output_type": "execute_result"
    }
   ],
   "source": [
    "lr = LogisticRegression()\n",
    "\n",
    "lr.fit(X_train, y_train)\n",
    "lr.score(X_train, [1]*620)"
   ]
  },
  {
   "cell_type": "code",
   "execution_count": 241,
   "metadata": {},
   "outputs": [
    {
     "data": {
      "text/plain": [
       "0.5"
      ]
     },
     "execution_count": 241,
     "metadata": {},
     "output_type": "execute_result"
    }
   ],
   "source": [
    "roc_auc_score(y_train, [1]*620)"
   ]
  },
  {
   "cell_type": "markdown",
   "metadata": {},
   "source": [
    "Baseline Accuracy Score (the score to beat): .596"
   ]
  },
  {
   "cell_type": "markdown",
   "metadata": {},
   "source": [
    "### Testing Multiple Models"
   ]
  },
  {
   "cell_type": "code",
   "execution_count": 39,
   "metadata": {},
   "outputs": [],
   "source": [
    "scaler = StandardScaler()\n",
    "\n",
    "X_train_scaled = scaler.fit_transform(X_train)\n",
    "X_val_scaled = scaler.transform(X_val)"
   ]
  },
  {
   "cell_type": "code",
   "execution_count": null,
   "metadata": {},
   "outputs": [],
   "source": [
    "kf = KFold(n_splits=5, shuffle=True)\n"
   ]
  },
  {
   "cell_type": "code",
   "execution_count": 259,
   "metadata": {},
   "outputs": [
    {
     "name": "stdout",
     "output_type": "stream",
     "text": [
      "KNeighborsClassifier() [0.52672751 0.47327249 0.53585398 0.47431551 0.44934896] mean= 0.4919036899717514\n",
      "LogisticRegression() [0.57809648 0.45736636 0.63389831 0.56036506 0.49817708] mean= 0.5455806578661452\n",
      "DecisionTreeClassifier() [0.4988266  0.4065189  0.52503259 0.44185137 0.49114583] mean= 0.46624497501086487\n",
      "RandomForestClassifier() [0.49243807 0.42933507 0.50704042 0.46049544 0.43372396] mean= 0.4452333564211212\n",
      "GaussianNB() [0.61147327 0.51473272 0.63780965 0.56297262 0.51380208] mean= 0.5681580698609301\n",
      "SVC() [0.57340287 0.47353325 0.64667536 0.57079531 0.46692708] mean= 0.54626677259887\n",
      "GradientBoostingClassifier() [0.47574967 0.46558018 0.50495437 0.5041721  0.42513021] mean= 0.47787894529552366\n"
     ]
    }
   ],
   "source": [
    "knn = KNeighborsClassifier()\n",
    "lr = LogisticRegression()\n",
    "dt = DecisionTreeClassifier()\n",
    "rf = RandomForestClassifier()\n",
    "gnb = GaussianNB()\n",
    "sv = svm.SVC()\n",
    "xgb = GradientBoostingClassifier()\n",
    "\n",
    "\n",
    "models = [knn, lr, dt, rf, gnb, sv, xgb]\n",
    "for model in models:\n",
    "    print(model, cross_val_score(model, X_train, y_train, cv=5, scoring='roc_auc'), \n",
    "          'mean=', cross_val_score(model, X_train, y_train, cv=5, scoring='roc_auc').mean())"
   ]
  },
  {
   "cell_type": "code",
   "execution_count": 260,
   "metadata": {},
   "outputs": [
    {
     "name": "stdout",
     "output_type": "stream",
     "text": [
      "KNeighborsClassifier() [0.53225806 0.45967742 0.5483871  0.53225806 0.46774194] mean= 0.5080645161290323\n",
      "LogisticRegression() [0.57258065 0.4516129  0.62096774 0.55645161 0.51612903] mean= 0.5435483870967741\n",
      "DecisionTreeClassifier() [0.49193548 0.4516129  0.5        0.43548387 0.46774194] mean= 0.4725806451612904\n",
      "RandomForestClassifier() [0.47580645 0.4516129  0.5        0.46774194 0.45967742] mean= 0.4629032258064516\n",
      "GaussianNB() [0.57258065 0.54032258 0.60483871 0.56451613 0.53225806] mean= 0.5629032258064516\n",
      "SVC() [0.58064516 0.48387097 0.60483871 0.50806452 0.49193548] mean= 0.5338709677419355\n",
      "GradientBoostingClassifier() [0.49193548 0.48387097 0.47580645 0.51612903 0.47580645] mean= 0.4935483870967742\n"
     ]
    }
   ],
   "source": [
    "knn = KNeighborsClassifier()\n",
    "lr = LogisticRegression()\n",
    "dt = DecisionTreeClassifier()\n",
    "rf = RandomForestClassifier()\n",
    "gnb = GaussianNB()\n",
    "sv = svm.SVC()\n",
    "xgb = GradientBoostingClassifier(n_estimators=100)\n",
    "\n",
    "models = [knn, lr, dt, rf, gnb, sv, xgb]\n",
    "for model in models:\n",
    "    print(model, cross_val_score(model, X_train, y_train, cv=5, scoring='accuracy'), \n",
    "          'mean=', cross_val_score(model, X_train, y_train, cv=5, scoring='accuracy').mean())"
   ]
  },
  {
   "cell_type": "markdown",
   "metadata": {},
   "source": [
    "At first glance, none of the models are better than the baseline in any form"
   ]
  },
  {
   "cell_type": "markdown",
   "metadata": {},
   "source": [
    "Trying both logistic regression and random forests with hyperparameter tuning involved"
   ]
  },
  {
   "cell_type": "code",
   "execution_count": 261,
   "metadata": {},
   "outputs": [],
   "source": [
    "X_train, X_val, y_train, y_val = train_test_split(X_train, y_train, test_size=0.2, random_state=30)"
   ]
  },
  {
   "cell_type": "code",
   "execution_count": 212,
   "metadata": {},
   "outputs": [
    {
     "data": {
      "text/plain": [
       "LogisticRegression()"
      ]
     },
     "execution_count": 212,
     "metadata": {},
     "output_type": "execute_result"
    }
   ],
   "source": [
    "lr = LogisticRegression()\n",
    "scaler = StandardScaler()\n",
    "\n",
    "X_train_scaled = scaler.fit_transform(X_train)\n",
    "X_val_scaled = scaler.transform(X_val)\n",
    "lr.fit(X_train_scaled, y_train)"
   ]
  },
  {
   "cell_type": "code",
   "execution_count": 215,
   "metadata": {
    "scrolled": true
   },
   "outputs": [
    {
     "data": {
      "text/plain": [
       "array([[0.36879143, 0.63120857],\n",
       "       [0.5197494 , 0.4802506 ],\n",
       "       [0.38257227, 0.61742773],\n",
       "       [0.42347668, 0.57652332],\n",
       "       [0.40646439, 0.59353561],\n",
       "       [0.60404349, 0.39595651],\n",
       "       [0.34482894, 0.65517106],\n",
       "       [0.33996504, 0.66003496],\n",
       "       [0.51393972, 0.48606028],\n",
       "       [0.55304414, 0.44695586],\n",
       "       [0.39981495, 0.60018505],\n",
       "       [0.55994711, 0.44005289],\n",
       "       [0.4964427 , 0.5035573 ],\n",
       "       [0.4293287 , 0.5706713 ],\n",
       "       [0.30630403, 0.69369597],\n",
       "       [0.51978537, 0.48021463],\n",
       "       [0.33172524, 0.66827476],\n",
       "       [0.44502362, 0.55497638],\n",
       "       [0.34424165, 0.65575835],\n",
       "       [0.33870015, 0.66129985],\n",
       "       [0.41554978, 0.58445022],\n",
       "       [0.4152737 , 0.5847263 ],\n",
       "       [0.52636588, 0.47363412],\n",
       "       [0.30574726, 0.69425274],\n",
       "       [0.34890693, 0.65109307],\n",
       "       [0.41707562, 0.58292438],\n",
       "       [0.36427322, 0.63572678],\n",
       "       [0.34872001, 0.65127999],\n",
       "       [0.3279789 , 0.6720211 ],\n",
       "       [0.5484739 , 0.4515261 ],\n",
       "       [0.50492708, 0.49507292],\n",
       "       [0.55393219, 0.44606781],\n",
       "       [0.36770178, 0.63229822],\n",
       "       [0.46929833, 0.53070167],\n",
       "       [0.59477722, 0.40522278],\n",
       "       [0.63329534, 0.36670466],\n",
       "       [0.58943698, 0.41056302],\n",
       "       [0.58346956, 0.41653044],\n",
       "       [0.50299262, 0.49700738],\n",
       "       [0.56020732, 0.43979268],\n",
       "       [0.5880831 , 0.4119169 ],\n",
       "       [0.57754691, 0.42245309],\n",
       "       [0.26626827, 0.73373173],\n",
       "       [0.49539699, 0.50460301],\n",
       "       [0.48463657, 0.51536343],\n",
       "       [0.31684162, 0.68315838],\n",
       "       [0.58192216, 0.41807784],\n",
       "       [0.49078211, 0.50921789],\n",
       "       [0.41395888, 0.58604112],\n",
       "       [0.4552107 , 0.5447893 ],\n",
       "       [0.38007319, 0.61992681],\n",
       "       [0.57497167, 0.42502833],\n",
       "       [0.53299347, 0.46700653],\n",
       "       [0.4466241 , 0.5533759 ],\n",
       "       [0.51824339, 0.48175661],\n",
       "       [0.35650789, 0.64349211],\n",
       "       [0.46421736, 0.53578264],\n",
       "       [0.47268809, 0.52731191],\n",
       "       [0.48757861, 0.51242139],\n",
       "       [0.41068882, 0.58931118],\n",
       "       [0.41395775, 0.58604225],\n",
       "       [0.45109801, 0.54890199],\n",
       "       [0.44138994, 0.55861006],\n",
       "       [0.59201249, 0.40798751],\n",
       "       [0.46068872, 0.53931128],\n",
       "       [0.67025   , 0.32975   ],\n",
       "       [0.40492288, 0.59507712],\n",
       "       [0.46329009, 0.53670991],\n",
       "       [0.39895213, 0.60104787],\n",
       "       [0.45586719, 0.54413281],\n",
       "       [0.38353882, 0.61646118],\n",
       "       [0.54468795, 0.45531205],\n",
       "       [0.54144032, 0.45855968],\n",
       "       [0.56333968, 0.43666032],\n",
       "       [0.5630609 , 0.4369391 ],\n",
       "       [0.56742923, 0.43257077],\n",
       "       [0.62086238, 0.37913762],\n",
       "       [0.55970247, 0.44029753],\n",
       "       [0.54329344, 0.45670656],\n",
       "       [0.33016406, 0.66983594],\n",
       "       [0.43554986, 0.56445014],\n",
       "       [0.38273263, 0.61726737],\n",
       "       [0.41812592, 0.58187408],\n",
       "       [0.56902374, 0.43097626],\n",
       "       [0.51064215, 0.48935785],\n",
       "       [0.59360078, 0.40639922],\n",
       "       [0.51413037, 0.48586963],\n",
       "       [0.46204646, 0.53795354],\n",
       "       [0.52861081, 0.47138919],\n",
       "       [0.5366367 , 0.4633633 ],\n",
       "       [0.38399329, 0.61600671],\n",
       "       [0.4867498 , 0.5132502 ],\n",
       "       [0.43525582, 0.56474418],\n",
       "       [0.5470112 , 0.4529888 ],\n",
       "       [0.2822244 , 0.7177756 ],\n",
       "       [0.54773112, 0.45226888],\n",
       "       [0.48571433, 0.51428567],\n",
       "       [0.52866673, 0.47133327],\n",
       "       [0.57805713, 0.42194287],\n",
       "       [0.45017697, 0.54982303],\n",
       "       [0.35705012, 0.64294988],\n",
       "       [0.53282117, 0.46717883],\n",
       "       [0.51735777, 0.48264223],\n",
       "       [0.50195341, 0.49804659],\n",
       "       [0.26968696, 0.73031304],\n",
       "       [0.59037299, 0.40962701],\n",
       "       [0.64416587, 0.35583413],\n",
       "       [0.46415937, 0.53584063],\n",
       "       [0.54979424, 0.45020576],\n",
       "       [0.47013528, 0.52986472],\n",
       "       [0.51457441, 0.48542559],\n",
       "       [0.49656569, 0.50343431],\n",
       "       [0.39106264, 0.60893736],\n",
       "       [0.48569208, 0.51430792],\n",
       "       [0.37542429, 0.62457571],\n",
       "       [0.4338788 , 0.5661212 ],\n",
       "       [0.58075136, 0.41924864],\n",
       "       [0.49577447, 0.50422553],\n",
       "       [0.40524982, 0.59475018],\n",
       "       [0.38391794, 0.61608206],\n",
       "       [0.34176181, 0.65823819],\n",
       "       [0.47215319, 0.52784681],\n",
       "       [0.66681313, 0.33318687],\n",
       "       [0.5429987 , 0.4570013 ]])"
      ]
     },
     "execution_count": 215,
     "metadata": {},
     "output_type": "execute_result"
    }
   ],
   "source": [
    "lr.predict_proba(X_val_scaled)"
   ]
  },
  {
   "cell_type": "code",
   "execution_count": 262,
   "metadata": {
    "scrolled": true
   },
   "outputs": [
    {
     "data": {
      "text/plain": [
       "array([0.10704517, 0.18346227, 0.16750762, 0.12923898, 0.22649978,\n",
       "       0.18624619])"
      ]
     },
     "execution_count": 262,
     "metadata": {},
     "output_type": "execute_result"
    }
   ],
   "source": [
    "rf = RandomForestClassifier(n_estimators=300, min_samples_leaf=18, max_features=2, max_depth=12)\n",
    "rf.fit(X_train, y_train)\n",
    "\n",
    "rf.feature_importances_\n"
   ]
  },
  {
   "cell_type": "code",
   "execution_count": 263,
   "metadata": {},
   "outputs": [
    {
     "data": {
      "text/plain": [
       "Index(['tenwinpctdiff', 'tengamegoalfordiff', 'tengamegoalagainstdiff',\n",
       "       'hometengoaldiff', 'awaytengoaldiff', 'tengoaldiff'],\n",
       "      dtype='object')"
      ]
     },
     "execution_count": 263,
     "metadata": {},
     "output_type": "execute_result"
    }
   ],
   "source": [
    "X_train.columns"
   ]
  },
  {
   "cell_type": "code",
   "execution_count": 264,
   "metadata": {},
   "outputs": [
    {
     "name": "stdout",
     "output_type": "stream",
     "text": [
      "tenwinpctdiff 0.10704516749738129\n",
      "tengamegoalfordiff 0.1834622743280888\n",
      "tengamegoalagainstdiff 0.16750761501410935\n",
      "hometengoaldiff 0.1292389783925344\n",
      "awaytengoaldiff 0.22649977957276074\n",
      "tengoaldiff 0.1862461851951254\n"
     ]
    }
   ],
   "source": [
    "for i in range(6):\n",
    "    col=X_train.columns[i]\n",
    "    importance=rf.feature_importances_[i]\n",
    "    print(col, importance)"
   ]
  },
  {
   "cell_type": "code",
   "execution_count": 217,
   "metadata": {},
   "outputs": [
    {
     "data": {
      "text/plain": [
       "(124,)"
      ]
     },
     "execution_count": 217,
     "metadata": {},
     "output_type": "execute_result"
    }
   ],
   "source": [
    "y_val.shape"
   ]
  },
  {
   "cell_type": "code",
   "execution_count": 267,
   "metadata": {},
   "outputs": [
    {
     "data": {
      "text/plain": [
       "0.4838709677419355"
      ]
     },
     "execution_count": 267,
     "metadata": {},
     "output_type": "execute_result"
    }
   ],
   "source": [
    "accuracy_score(y_val, rf.predict(X_val))"
   ]
  },
  {
   "cell_type": "code",
   "execution_count": 265,
   "metadata": {
    "scrolled": false
   },
   "outputs": [
    {
     "data": {
      "text/plain": [
       "array([[27, 37],\n",
       "       [27, 33]])"
      ]
     },
     "execution_count": 265,
     "metadata": {},
     "output_type": "execute_result"
    }
   ],
   "source": [
    "confusion_matrix(y_val, rf.predict(X_val))"
   ]
  },
  {
   "cell_type": "markdown",
   "metadata": {},
   "source": [
    "##### Even after trying to tune lots of parameters, these models are still struggling\n",
    "##### Going to try a new prediction next"
   ]
  },
  {
   "cell_type": "code",
   "execution_count": null,
   "metadata": {},
   "outputs": [],
   "source": []
  }
 ],
 "metadata": {
  "kernelspec": {
   "display_name": "Python [conda env:metis] *",
   "language": "python",
   "name": "conda-env-metis-py"
  },
  "language_info": {
   "codemirror_mode": {
    "name": "ipython",
    "version": 3
   },
   "file_extension": ".py",
   "mimetype": "text/x-python",
   "name": "python",
   "nbconvert_exporter": "python",
   "pygments_lexer": "ipython3",
   "version": "3.8.3"
  }
 },
 "nbformat": 4,
 "nbformat_minor": 4
}
